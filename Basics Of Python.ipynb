{
 "cells": [
  {
   "cell_type": "code",
   "execution_count": 1,
   "id": "38b4fb8a-d42f-41b6-9632-faca6b02d4fb",
   "metadata": {},
   "outputs": [
    {
     "name": "stdin",
     "output_type": "stream",
     "text": [
      "enter the number: 22\n"
     ]
    },
    {
     "name": "stdout",
     "output_type": "stream",
     "text": [
      "22 is not a prime number\n"
     ]
    }
   ],
   "source": [
    "#Prime Numbers\n",
    "\n",
    "def is_prime(number):\n",
    "    if number <= 1:\n",
    "        return False\n",
    "    if number == 2:\n",
    "        return True\n",
    "    if number % 2 == 0:\n",
    "        return False\n",
    "\n",
    "    for i in range(3, int(number**0.5) + 1,2):\n",
    "        if number % i == 0 :\n",
    "           return False\n",
    "\n",
    "    return True\n",
    "\n",
    "num = int(input(\"enter the number:\"))\n",
    "if is_prime(num):\n",
    "    print(f\"{num} is a prime number\")\n",
    "else:\n",
    "    print(f\"{num} is not a prime number\")"
   ]
  },
  {
   "cell_type": "code",
   "execution_count": 4,
   "id": "98e51f49-e446-4218-b29a-bf71de8c01f4",
   "metadata": {},
   "outputs": [
    {
     "name": "stdin",
     "output_type": "stream",
     "text": [
      "what is  1 * 2 is  22\n"
     ]
    },
    {
     "name": "stdout",
     "output_type": "stream",
     "text": [
      "Incorrect Answer.The Correct Answer is 2.\n"
     ]
    }
   ],
   "source": [
    "#Product Of Random Numbers\n",
    "\n",
    "import random\n",
    "\n",
    "#Generating two random numbers between 1 to 10\n",
    "number1=random.randint(1,10)\n",
    "number2=random.randint(1,10)\n",
    "user_answer = int(input(f\"what is  {number1} * {number2} is \"))\n",
    "if user_answer == number1 * number2:\n",
    "    print(\"The Answer you have given is Correct.\")\n",
    "else:\n",
    "    print(f\"Incorrect Answer.The Correct Answer is {number1 * number2}.\")"
   ]
  },
  {
   "cell_type": "code",
   "execution_count": 5,
   "id": "069e23cd-996b-4aba-9abb-3451d2c9775d",
   "metadata": {},
   "outputs": [],
   "source": [
    "#Squares of Even/Odd numbers"
   ]
  },
  {
   "cell_type": "code",
   "execution_count": 6,
   "id": "29d9680f-7572-4268-a362-a96574cd678a",
   "metadata": {},
   "outputs": [
    {
     "name": "stdout",
     "output_type": "stream",
     "text": [
      "the square of 100 is 10000\n",
      "the square of 102 is 10404\n",
      "the square of 104 is 10816\n",
      "the square of 106 is 11236\n",
      "the square of 108 is 11664\n",
      "the square of 110 is 12100\n",
      "the square of 112 is 12544\n",
      "the square of 114 is 12996\n",
      "the square of 116 is 13456\n",
      "the square of 118 is 13924\n",
      "the square of 120 is 14400\n",
      "the square of 122 is 14884\n",
      "the square of 124 is 15376\n",
      "the square of 126 is 15876\n",
      "the square of 128 is 16384\n",
      "the square of 130 is 16900\n",
      "the square of 132 is 17424\n",
      "the square of 134 is 17956\n",
      "the square of 136 is 18496\n",
      "the square of 138 is 19044\n",
      "the square of 140 is 19600\n",
      "the square of 142 is 20164\n",
      "the square of 144 is 20736\n",
      "the square of 146 is 21316\n",
      "the square of 148 is 21904\n",
      "the square of 150 is 22500\n",
      "the square of 152 is 23104\n",
      "the square of 154 is 23716\n",
      "the square of 156 is 24336\n",
      "the square of 158 is 24964\n",
      "the square of 160 is 25600\n",
      "the square of 162 is 26244\n",
      "the square of 164 is 26896\n",
      "the square of 166 is 27556\n",
      "the square of 168 is 28224\n",
      "the square of 170 is 28900\n",
      "the square of 172 is 29584\n",
      "the square of 174 is 30276\n",
      "the square of 176 is 30976\n",
      "the square of 178 is 31684\n",
      "the square of 180 is 32400\n",
      "the square of 182 is 33124\n",
      "the square of 184 is 33856\n",
      "the square of 186 is 34596\n",
      "the square of 188 is 35344\n",
      "the square of 190 is 36100\n",
      "the square of 192 is 36864\n",
      "the square of 194 is 37636\n",
      "the square of 196 is 38416\n",
      "the square of 198 is 39204\n",
      "the square of 200 is 40000\n"
     ]
    }
   ],
   "source": [
    "#Squares of Even numbers\n",
    "\n",
    "start = 100\n",
    "end = 200\n",
    "for number in range(start,end + 1):\n",
    "    if number % 2 == 0:\n",
    "        print(f\"the square of {number} is {number**2}\")"
   ]
  },
  {
   "cell_type": "code",
   "execution_count": 7,
   "id": "e2d04f74-ab85-41e1-b556-e70db04c7746",
   "metadata": {},
   "outputs": [
    {
     "name": "stdout",
     "output_type": "stream",
     "text": [
      "The square of 101 is 10201\n",
      "The square of 103 is 10609\n",
      "The square of 105 is 11025\n",
      "The square of 107 is 11449\n",
      "The square of 109 is 11881\n",
      "The square of 111 is 12321\n",
      "The square of 113 is 12769\n",
      "The square of 115 is 13225\n",
      "The square of 117 is 13689\n",
      "The square of 119 is 14161\n",
      "The square of 121 is 14641\n",
      "The square of 123 is 15129\n",
      "The square of 125 is 15625\n",
      "The square of 127 is 16129\n",
      "The square of 129 is 16641\n",
      "The square of 131 is 17161\n",
      "The square of 133 is 17689\n",
      "The square of 135 is 18225\n",
      "The square of 137 is 18769\n",
      "The square of 139 is 19321\n",
      "The square of 141 is 19881\n",
      "The square of 143 is 20449\n",
      "The square of 145 is 21025\n",
      "The square of 147 is 21609\n",
      "The square of 149 is 22201\n",
      "The square of 151 is 22801\n",
      "The square of 153 is 23409\n",
      "The square of 155 is 24025\n",
      "The square of 157 is 24649\n",
      "The square of 159 is 25281\n",
      "The square of 161 is 25921\n",
      "The square of 163 is 26569\n",
      "The square of 165 is 27225\n",
      "The square of 167 is 27889\n",
      "The square of 169 is 28561\n",
      "The square of 171 is 29241\n",
      "The square of 173 is 29929\n",
      "The square of 175 is 30625\n",
      "The square of 177 is 31329\n",
      "The square of 179 is 32041\n",
      "The square of 181 is 32761\n",
      "The square of 183 is 33489\n",
      "The square of 185 is 34225\n",
      "The square of 187 is 34969\n",
      "The square of 189 is 35721\n",
      "The square of 191 is 36481\n",
      "The square of 193 is 37249\n",
      "The square of 195 is 38025\n",
      "The square of 197 is 38809\n",
      "The square of 199 is 39601\n"
     ]
    }
   ],
   "source": [
    "# Squares Of Odd Numbers\n",
    "start = 100\n",
    "end = 200\n",
    "for number in range(start, end+1):\n",
    "    if number % 2 != 0:\n",
    "        print(f'The square of {number} is {number**2}')\n"
   ]
  },
  {
   "cell_type": "code",
   "execution_count": 12,
   "id": "d2d5ff9d-ea14-485a-9bec-fa5e027bce58",
   "metadata": {},
   "outputs": [
    {
     "name": "stdout",
     "output_type": "stream",
     "text": [
      "'This': 2\n",
      "'is': 1\n",
      "'a': 1\n",
      "'sample': 1\n",
      "'text.': 1\n",
      "'text': 1\n",
      "'will': 1\n",
      "'be': 1\n",
      "'used': 1\n",
      "'to': 1\n",
      "'demonstrate': 1\n",
      "'the': 1\n",
      "'word': 1\n",
      "'counter.': 1\n"
     ]
    }
   ],
   "source": [
    "# Word Counter\n",
    "\n",
    "from collections import Counter\n",
    "\n",
    "def word_count(input_text):\n",
    "    #spliting the text into words based on white space using the split() function\n",
    "    words = input_text.split()\n",
    "    #counting the frequency of each word using the imported library function Counter\n",
    "    word_counter = Counter(words)\n",
    "\n",
    "    for  word, count in word_counter.items():\n",
    "        print(f\"'{word}': {count}\")\n",
    "\n",
    "input_text = \"This is a sample text. This text will be used to demonstrate the word counter.\"\n",
    "word_count(input_text)"
   ]
  },
  {
   "cell_type": "code",
   "execution_count": 13,
   "id": "194251ee-be81-4898-9b65-44ac18821713",
   "metadata": {},
   "outputs": [
    {
     "name": "stdin",
     "output_type": "stream",
     "text": [
      "enter the word: racecar\n"
     ]
    },
    {
     "name": "stdout",
     "output_type": "stream",
     "text": [
      "True, The provided word racecar is palindrome\n"
     ]
    }
   ],
   "source": [
    "#Check for Palindrome\n",
    "\n",
    "def ispalindrome(s):\n",
    "    return s == s[::-1]\n",
    "\n",
    "s = input('enter the word:')\n",
    "palin = ispalindrome(s)\n",
    "\n",
    "if palin:\n",
    "    print(f'True, The provided word {s} is palindrome')\n",
    "else:\n",
    "    print(f'False, The provided word {s} is not a palindrome')"
   ]
  },
  {
   "cell_type": "code",
   "execution_count": null,
   "id": "9202b5b8-c59c-4149-8863-a4ce7bd41165",
   "metadata": {},
   "outputs": [],
   "source": []
  }
 ],
 "metadata": {
  "kernelspec": {
   "display_name": "Python 3 (ipykernel)",
   "language": "python",
   "name": "python3"
  },
  "language_info": {
   "codemirror_mode": {
    "name": "ipython",
    "version": 3
   },
   "file_extension": ".py",
   "mimetype": "text/x-python",
   "name": "python",
   "nbconvert_exporter": "python",
   "pygments_lexer": "ipython3",
   "version": "3.12.7"
  }
 },
 "nbformat": 4,
 "nbformat_minor": 5
}
