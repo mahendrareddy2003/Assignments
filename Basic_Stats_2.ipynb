{
 "cells": [
  {
   "cell_type": "code",
   "execution_count": 4,
   "id": "b46920e9-206b-4f97-87ee-2d97b62b2bef",
   "metadata": {},
   "outputs": [],
   "source": [
    "import pandas as pd"
   ]
  },
  {
   "cell_type": "code",
   "execution_count": 5,
   "id": "fb610036-570d-4d99-82d6-fc7fbeb372c6",
   "metadata": {},
   "outputs": [],
   "source": [
    "Data = [1.13, 1.55, 1.43, 0.92, 1.25, 1.36, 1.32, 0.85, 1.07, 1.48, 1.20, 1.33, 1.18, 1.22, 1.29]"
   ]
  },
  {
   "cell_type": "code",
   "execution_count": 6,
   "id": "eba0080f-1081-43ff-ad9e-96e65bd73012",
   "metadata": {},
   "outputs": [
    {
     "data": {
      "text/html": [
       "<div>\n",
       "<style scoped>\n",
       "    .dataframe tbody tr th:only-of-type {\n",
       "        vertical-align: middle;\n",
       "    }\n",
       "\n",
       "    .dataframe tbody tr th {\n",
       "        vertical-align: top;\n",
       "    }\n",
       "\n",
       "    .dataframe thead th {\n",
       "        text-align: right;\n",
       "    }\n",
       "</style>\n",
       "<table border=\"1\" class=\"dataframe\">\n",
       "  <thead>\n",
       "    <tr style=\"text-align: right;\">\n",
       "      <th></th>\n",
       "      <th>print heads</th>\n",
       "    </tr>\n",
       "  </thead>\n",
       "  <tbody>\n",
       "    <tr>\n",
       "      <th>0</th>\n",
       "      <td>1.13</td>\n",
       "    </tr>\n",
       "    <tr>\n",
       "      <th>1</th>\n",
       "      <td>1.55</td>\n",
       "    </tr>\n",
       "    <tr>\n",
       "      <th>2</th>\n",
       "      <td>1.43</td>\n",
       "    </tr>\n",
       "    <tr>\n",
       "      <th>3</th>\n",
       "      <td>0.92</td>\n",
       "    </tr>\n",
       "    <tr>\n",
       "      <th>4</th>\n",
       "      <td>1.25</td>\n",
       "    </tr>\n",
       "    <tr>\n",
       "      <th>5</th>\n",
       "      <td>1.36</td>\n",
       "    </tr>\n",
       "    <tr>\n",
       "      <th>6</th>\n",
       "      <td>1.32</td>\n",
       "    </tr>\n",
       "    <tr>\n",
       "      <th>7</th>\n",
       "      <td>0.85</td>\n",
       "    </tr>\n",
       "    <tr>\n",
       "      <th>8</th>\n",
       "      <td>1.07</td>\n",
       "    </tr>\n",
       "    <tr>\n",
       "      <th>9</th>\n",
       "      <td>1.48</td>\n",
       "    </tr>\n",
       "    <tr>\n",
       "      <th>10</th>\n",
       "      <td>1.20</td>\n",
       "    </tr>\n",
       "    <tr>\n",
       "      <th>11</th>\n",
       "      <td>1.33</td>\n",
       "    </tr>\n",
       "    <tr>\n",
       "      <th>12</th>\n",
       "      <td>1.18</td>\n",
       "    </tr>\n",
       "    <tr>\n",
       "      <th>13</th>\n",
       "      <td>1.22</td>\n",
       "    </tr>\n",
       "    <tr>\n",
       "      <th>14</th>\n",
       "      <td>1.29</td>\n",
       "    </tr>\n",
       "  </tbody>\n",
       "</table>\n",
       "</div>"
      ],
      "text/plain": [
       "    print heads\n",
       "0          1.13\n",
       "1          1.55\n",
       "2          1.43\n",
       "3          0.92\n",
       "4          1.25\n",
       "5          1.36\n",
       "6          1.32\n",
       "7          0.85\n",
       "8          1.07\n",
       "9          1.48\n",
       "10         1.20\n",
       "11         1.33\n",
       "12         1.18\n",
       "13         1.22\n",
       "14         1.29"
      ]
     },
     "execution_count": 6,
     "metadata": {},
     "output_type": "execute_result"
    }
   ],
   "source": [
    "df = pd.DataFrame(Data, columns=['print heads'])\n",
    "df"
   ]
  },
  {
   "cell_type": "code",
   "execution_count": 7,
   "id": "4fef32f2-ec11-49c6-9e60-dad147458b13",
   "metadata": {},
   "outputs": [
    {
     "data": {
      "text/plain": [
       "print heads    1.238667\n",
       "dtype: float64"
      ]
     },
     "execution_count": 7,
     "metadata": {},
     "output_type": "execute_result"
    }
   ],
   "source": [
    "df.mean()"
   ]
  },
  {
   "cell_type": "code",
   "execution_count": 23,
   "id": "f4f221ed-31fa-4b2f-9bfb-ad1cca78514a",
   "metadata": {},
   "outputs": [
    {
     "data": {
      "text/plain": [
       "(array([1.09019734]), array([1.38713599]))"
      ]
     },
     "execution_count": 23,
     "metadata": {},
     "output_type": "execute_result"
    }
   ],
   "source": [
    "# using t-distribution\n",
    "import numpy as np\n",
    "from scipy.stats import t\n",
    "\n",
    "CI = t.interval(0.99, df=len(df)-1, loc=df.mean(), scale = df.std(ddof=1) / np.sqrt(len(df)))\n",
    "CI"
   ]
  },
  {
   "cell_type": "code",
   "execution_count": 24,
   "id": "6f0b3756-c8ae-4149-877c-4c187f0356e8",
   "metadata": {},
   "outputs": [
    {
     "name": "stdout",
     "output_type": "stream",
     "text": [
      "I am 99% confident that mean number of characters printed before the print-head fails is lies between (array([1.09019734]), array([1.38713599]))  in millions\n"
     ]
    }
   ],
   "source": [
    "print(\"I am 99% confident that mean number of characters printed before the print-head fails is lies between\", CI ,\" in millions\" )"
   ]
  },
  {
   "cell_type": "code",
   "execution_count": 12,
   "id": "f890ffd5-9736-4e29-b0b6-a3fd32b4dd68",
   "metadata": {},
   "outputs": [],
   "source": [
    "#why i used t-distribution instead normal distribution\n",
    "#we didn't know mean and standard deviation of the population data\n",
    "#the number of samples is less than 30"
   ]
  },
  {
   "cell_type": "code",
   "execution_count": 13,
   "id": "bf2d3cff-65d1-4b38-80c3-2fd3f1cfd22b",
   "metadata": {},
   "outputs": [],
   "source": [
    "#now because i know the population standard deviation is 0.2\n",
    "# i don't need to follow t-distribution i can simply follow normal distribution"
   ]
  },
  {
   "cell_type": "code",
   "execution_count": 26,
   "id": "d894e8f5-34bf-4b81-a0c6-e5937fd0d1c0",
   "metadata": {},
   "outputs": [],
   "source": [
    "from scipy.stats import norm"
   ]
  },
  {
   "cell_type": "code",
   "execution_count": 27,
   "id": "e638f855-7d50-4515-b41b-17328c4eb56b",
   "metadata": {},
   "outputs": [
    {
     "data": {
      "text/plain": [
       "(array([0.72350081]), array([1.75383253]))"
      ]
     },
     "execution_count": 27,
     "metadata": {},
     "output_type": "execute_result"
    }
   ],
   "source": [
    "df_CI = norm.interval(0.99, loc=df.mean(), scale=0.2)\n",
    "df_CI"
   ]
  },
  {
   "cell_type": "code",
   "execution_count": 28,
   "id": "3f89c1cc-a98f-4718-8b83-1b82b593a819",
   "metadata": {},
   "outputs": [
    {
     "name": "stdout",
     "output_type": "stream",
     "text": [
      "I am 99% confident that mean number of characters printed before the print-head fails with population standard deviation is  (array([0.72350081]), array([1.75383253])) in millions\n"
     ]
    }
   ],
   "source": [
    "print(\"I am 99% confident that mean number of characters printed before the print-head fails with population standard deviation is \", df_CI, 'in millions')"
   ]
  },
  {
   "cell_type": "code",
   "execution_count": null,
   "id": "5d607e95-7d07-48ab-a9dc-13f0cc5e7eaf",
   "metadata": {},
   "outputs": [],
   "source": []
  }
 ],
 "metadata": {
  "kernelspec": {
   "display_name": "Python 3 (ipykernel)",
   "language": "python",
   "name": "python3"
  },
  "language_info": {
   "codemirror_mode": {
    "name": "ipython",
    "version": 3
   },
   "file_extension": ".py",
   "mimetype": "text/x-python",
   "name": "python",
   "nbconvert_exporter": "python",
   "pygments_lexer": "ipython3",
   "version": "3.12.7"
  }
 },
 "nbformat": 4,
 "nbformat_minor": 5
}
